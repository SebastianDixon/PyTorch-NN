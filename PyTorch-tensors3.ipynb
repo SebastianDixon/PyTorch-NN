{
 "nbformat": 4,
 "nbformat_minor": 2,
 "metadata": {
  "language_info": {
   "name": "python",
   "codemirror_mode": {
    "name": "ipython",
    "version": 3
   },
   "version": "3.7.6-final"
  },
  "orig_nbformat": 2,
  "file_extension": ".py",
  "mimetype": "text/x-python",
  "name": "python",
  "npconvert_exporter": "python",
  "pygments_lexer": "ipython3",
  "version": 3,
  "kernelspec": {
   "name": "python37664bitd0b078c581744c51ba9098f8d851824d",
   "display_name": "Python 3.7.6 64-bit"
  }
 },
 "cells": [
  {
   "cell_type": "code",
   "execution_count": null,
   "metadata": {},
   "outputs": [],
   "source": [
    "import torch\n",
    "import numpy as np"
   ]
  },
  {
   "cell_type": "code",
   "execution_count": null,
   "metadata": {},
   "outputs": [],
   "source": [
    "t1 = torch.tensor([\n",
    "    [1,2],\n",
    "    [3,4]\n",
    "], dtype=torch.float32)\n",
    "\n",
    "t2 = torch.tensor([\n",
    "    [9,8],\n",
    "    [7,6]\n",
    "], dtype=torch.float32)"
   ]
  },
  {
   "cell_type": "code",
   "execution_count": null,
   "metadata": {},
   "outputs": [],
   "source": [
    "t1[0][0]"
   ]
  },
  {
   "cell_type": "code",
   "execution_count": null,
   "metadata": {},
   "outputs": [],
   "source": [
    "t2[0][0]"
   ]
  },
  {
   "cell_type": "markdown",
   "metadata": {},
   "source": [
    "these two values are corresponding elements between the two tensors of the same shape and rank\n",
    "\n",
    "given these similar properties it is possible to perform element-wise operations"
   ],
   "execution_count": null,
   "outputs": []
  },
  {
   "cell_type": "code",
   "execution_count": null,
   "metadata": {},
   "outputs": [],
   "source": [
    "t1 + t2"
   ]
  },
  {
   "cell_type": "code",
   "execution_count": null,
   "metadata": {},
   "outputs": [],
   "source": [
    "t1 + 2"
   ]
  },
  {
   "cell_type": "code",
   "execution_count": null,
   "metadata": {},
   "outputs": [],
   "source": [
    "np.broadcast_to(2, t1.shape)"
   ]
  },
  {
   "cell_type": "code",
   "execution_count": null,
   "metadata": {},
   "outputs": [],
   "source": [
    "t1 + torch.tensor(\n",
    "    np.broadcast_to(2, t1.shape)\n",
    "    ,dtype=torch.float32\n",
    ")"
   ]
  },
  {
   "cell_type": "markdown",
   "metadata": {},
   "source": [
    "here the tensor being a vector value undergoes an arithmetic operation with a scalar value. this shouldnt work as they are different shapes and are of different rank.\n",
    "\n",
    "however, the scalar value is compared to the tensor, and a copy of the tensor is made, using the scalar quantity value. an element-wise arithmetic operation is made on each corresponding value in the two tensors.\n",
    "\n",
    "this known as being broadcast to have the same dimensions as the t1 tensor  "
   ],
   "execution_count": null,
   "outputs": []
  },
  {
   "cell_type": "code",
   "execution_count": null,
   "metadata": {},
   "outputs": [],
   "source": [
    "t3 = torch.tensor([\n",
    "    [1,1],\n",
    "    [2,2]\n",
    "], dtype=torch.float32)\n",
    "\n",
    "t4 = torch.tensor([2,4], dtype=torch.float32)"
   ]
  },
  {
   "cell_type": "code",
   "execution_count": null,
   "metadata": {},
   "outputs": [],
   "source": [
    "np.broadcast_to(t4.numpy(), t3.shape)"
   ]
  },
  {
   "cell_type": "code",
   "execution_count": null,
   "metadata": {},
   "outputs": [],
   "source": [
    "t3 + t4"
   ]
  },
  {
   "cell_type": "markdown",
   "metadata": {},
   "source": [
    "the two tensors are of different shape and the broadcasting fuction allows arithmetic operation between the two\n",
    "\n",
    "the operation is carried out element-wise"
   ],
   "execution_count": null,
   "outputs": []
  },
  {
   "cell_type": "code",
   "execution_count": 65,
   "metadata": {},
   "outputs": [],
   "source": [
    "t = torch.tensor([\n",
    "    [0,5,7],\n",
    "    [6,0,7],\n",
    "    [0,8,0]\n",
    "], dtype=torch.float32)"
   ]
  },
  {
   "cell_type": "code",
   "execution_count": 66,
   "metadata": {},
   "outputs": [
    {
     "output_type": "execute_result",
     "data": {
      "text/plain": "tensor([[ True,  True,  True],\n        [ True,  True,  True],\n        [ True, False,  True]])"
     },
     "metadata": {},
     "execution_count": 66
    }
   ],
   "source": [
    "t.le(7)"
   ]
  },
  {
   "cell_type": "code",
   "execution_count": 67,
   "metadata": {},
   "outputs": [
    {
     "output_type": "execute_result",
     "data": {
      "text/plain": "tensor([[ True,  True,  True],\n        [ True,  True,  True],\n        [ True, False,  True]])"
     },
     "metadata": {},
     "execution_count": 67
    }
   ],
   "source": [
    "t <= torch.tensor([\n",
    "    [7,7,7],\n",
    "    [7,7,7],\n",
    "    [7,7,7]\n",
    "], dtype=torch.float32)"
   ]
  },
  {
   "cell_type": "markdown",
   "metadata": {},
   "source": [
    "it can be seen that the comparison operation of less than 7 is a broadcasting function of creating the same shaped tensor from the scalar 7 and the same dimension, then comparing each scalar value element-wise"
   ]
  }
 ]
}