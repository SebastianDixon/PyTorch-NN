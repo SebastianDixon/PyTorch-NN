{
 "nbformat": 4,
 "nbformat_minor": 2,
 "metadata": {
  "language_info": {
   "name": "python",
   "codemirror_mode": {
    "name": "ipython",
    "version": 3
   },
   "version": "3.7.6-final"
  },
  "orig_nbformat": 2,
  "file_extension": ".py",
  "mimetype": "text/x-python",
  "name": "python",
  "npconvert_exporter": "python",
  "pygments_lexer": "ipython3",
  "version": 3,
  "kernelspec": {
   "name": "python37664bitd0b078c581744c51ba9098f8d851824d",
   "display_name": "Python 3.7.6 64-bit"
  }
 },
 "cells": [
  {
   "cell_type": "code",
   "execution_count": 1,
   "metadata": {},
   "outputs": [],
   "source": [
    "import torch\n",
    "import numpy as np"
   ]
  },
  {
   "cell_type": "code",
   "execution_count": 2,
   "metadata": {},
   "outputs": [],
   "source": [
    "t1 = torch.tensor([\n",
    "    [1,2],\n",
    "    [3,4]\n",
    "], dtype=torch.float32)\n",
    "\n",
    "t2 = torch.tensor([\n",
    "    [9,8],\n",
    "    [7,6]\n",
    "], dtype=torch.float32)"
   ]
  },
  {
   "cell_type": "code",
   "execution_count": 3,
   "metadata": {},
   "outputs": [
    {
     "output_type": "execute_result",
     "data": {
      "text/plain": "tensor(1.)"
     },
     "metadata": {},
     "execution_count": 3
    }
   ],
   "source": [
    "t1[0][0]"
   ]
  },
  {
   "cell_type": "code",
   "execution_count": 4,
   "metadata": {},
   "outputs": [
    {
     "output_type": "execute_result",
     "data": {
      "text/plain": "tensor(9.)"
     },
     "metadata": {},
     "execution_count": 4
    }
   ],
   "source": [
    "t2[0][0]"
   ]
  },
  {
   "cell_type": "markdown",
   "metadata": {},
   "source": [
    "these two values are corresponding elements between the two tensors of the same shape and rank\n",
    "\n",
    "given these similar properties it is possible to perform element-wise operations"
   ],
   "execution_count": null,
   "outputs": []
  },
  {
   "cell_type": "code",
   "execution_count": 5,
   "metadata": {},
   "outputs": [
    {
     "output_type": "execute_result",
     "data": {
      "text/plain": "tensor([[10., 10.],\n        [10., 10.]])"
     },
     "metadata": {},
     "execution_count": 5
    }
   ],
   "source": [
    "t1 + t2"
   ]
  },
  {
   "cell_type": "code",
   "execution_count": 6,
   "metadata": {},
   "outputs": [
    {
     "output_type": "execute_result",
     "data": {
      "text/plain": "tensor([[3., 4.],\n        [5., 6.]])"
     },
     "metadata": {},
     "execution_count": 6
    }
   ],
   "source": [
    "t1 + 2"
   ]
  },
  {
   "cell_type": "code",
   "execution_count": 7,
   "metadata": {},
   "outputs": [
    {
     "output_type": "execute_result",
     "data": {
      "text/plain": "array([[2, 2],\n       [2, 2]])"
     },
     "metadata": {},
     "execution_count": 7
    }
   ],
   "source": [
    "np.broadcast_to(2, t1.shape)"
   ]
  },
  {
   "cell_type": "code",
   "execution_count": 8,
   "metadata": {},
   "outputs": [
    {
     "output_type": "execute_result",
     "data": {
      "text/plain": "tensor([[3., 4.],\n        [5., 6.]])"
     },
     "metadata": {},
     "execution_count": 8
    }
   ],
   "source": [
    "t1 + torch.tensor(\n",
    "    np.broadcast_to(2, t1.shape)\n",
    "    ,dtype=torch.float32\n",
    ")"
   ]
  },
  {
   "cell_type": "markdown",
   "metadata": {},
   "source": [
    "here the tensor being a vector value undergoes an arithmetic operation with a scalar value. this shouldnt work as they are different shapes and are of different rank.\n",
    "\n",
    "however, the scalar value is compared to the tensor, and a copy of the tensor is made, using the scalar quantity value. an element-wise arithmetic operation is made on each corresponding value in the two tensors.\n",
    "\n",
    "this known as being broadcast to have the same dimensions as the t1 tensor  "
   ],
   "execution_count": null,
   "outputs": []
  },
  {
   "cell_type": "code",
   "execution_count": 9,
   "metadata": {},
   "outputs": [],
   "source": [
    "t3 = torch.tensor([\n",
    "    [1,1],\n",
    "    [2,2]\n",
    "], dtype=torch.float32)\n",
    "\n",
    "t4 = torch.tensor([2,4], dtype=torch.float32)"
   ]
  },
  {
   "cell_type": "code",
   "execution_count": 10,
   "metadata": {},
   "outputs": [
    {
     "output_type": "execute_result",
     "data": {
      "text/plain": "array([[2., 4.],\n       [2., 4.]], dtype=float32)"
     },
     "metadata": {},
     "execution_count": 10
    }
   ],
   "source": [
    "np.broadcast_to(t4.numpy(), t3.shape)"
   ]
  },
  {
   "cell_type": "code",
   "execution_count": 11,
   "metadata": {},
   "outputs": [
    {
     "output_type": "execute_result",
     "data": {
      "text/plain": "tensor([[3., 5.],\n        [4., 6.]])"
     },
     "metadata": {},
     "execution_count": 11
    }
   ],
   "source": [
    "t3 + t4"
   ]
  },
  {
   "cell_type": "markdown",
   "metadata": {},
   "source": [
    "the two tensors are of different shape and the broadcasting fuction allows arithmetic operation between the two\n",
    "\n",
    "the operation is carried out element-wise"
   ],
   "execution_count": null,
   "outputs": []
  },
  {
   "cell_type": "code",
   "execution_count": 12,
   "metadata": {},
   "outputs": [],
   "source": [
    "t = torch.tensor([\n",
    "    [0,5,7],\n",
    "    [6,0,7],\n",
    "    [0,8,0]\n",
    "], dtype=torch.float32)"
   ]
  },
  {
   "cell_type": "code",
   "execution_count": 13,
   "metadata": {},
   "outputs": [
    {
     "output_type": "execute_result",
     "data": {
      "text/plain": "tensor([[ True,  True,  True],\n        [ True,  True,  True],\n        [ True, False,  True]])"
     },
     "metadata": {},
     "execution_count": 13
    }
   ],
   "source": [
    "t.le(7)"
   ]
  },
  {
   "cell_type": "code",
   "execution_count": 14,
   "metadata": {},
   "outputs": [
    {
     "output_type": "execute_result",
     "data": {
      "text/plain": "tensor([[ True,  True,  True],\n        [ True,  True,  True],\n        [ True, False,  True]])"
     },
     "metadata": {},
     "execution_count": 14
    }
   ],
   "source": [
    "t <= torch.tensor([\n",
    "    [7,7,7],\n",
    "    [7,7,7],\n",
    "    [7,7,7]\n",
    "], dtype=torch.float32)"
   ]
  },
  {
   "cell_type": "markdown",
   "metadata": {},
   "source": [
    "it can be seen that the comparison operation of less than 7 is a broadcasting function of creating the same shaped tensor from the scalar 7 and the same dimension, then comparing each scalar value element-wise"
   ],
   "execution_count": null,
   "outputs": []
  },
  {
   "cell_type": "code",
   "execution_count": 15,
   "metadata": {},
   "outputs": [],
   "source": [
    "t = torch.tensor([\n",
    "    [1,0,1],\n",
    "    [2,2,3],\n",
    "    [0,0,5]\n",
    "], dtype=torch.float32)"
   ]
  },
  {
   "cell_type": "code",
   "execution_count": 16,
   "metadata": {},
   "outputs": [
    {
     "output_type": "execute_result",
     "data": {
      "text/plain": "tensor(14.)"
     },
     "metadata": {},
     "execution_count": 16
    }
   ],
   "source": [
    "t.sum()"
   ]
  },
  {
   "cell_type": "code",
   "execution_count": 17,
   "metadata": {},
   "outputs": [
    {
     "output_type": "execute_result",
     "data": {
      "text/plain": "tensor(0.)"
     },
     "metadata": {},
     "execution_count": 17
    }
   ],
   "source": [
    "t.prod()"
   ]
  },
  {
   "cell_type": "code",
   "execution_count": 18,
   "metadata": {},
   "outputs": [
    {
     "output_type": "execute_result",
     "data": {
      "text/plain": "tensor(1.5556)"
     },
     "metadata": {},
     "execution_count": 18
    }
   ],
   "source": [
    "t.mean()"
   ]
  },
  {
   "cell_type": "code",
   "execution_count": 19,
   "metadata": {},
   "outputs": [
    {
     "output_type": "execute_result",
     "data": {
      "text/plain": "tensor(1.6667)"
     },
     "metadata": {},
     "execution_count": 19
    }
   ],
   "source": [
    "t.std()"
   ]
  },
  {
   "cell_type": "markdown",
   "metadata": {},
   "source": [
    "these are all reduction operations, a process which occurs within the same tensor and reduces the number of elements in the tensor\n",
    "\n",
    "each of these have been reduced to a one value tensor via arithmetic operation, but most reductions are performed on specific dimensions"
   ],
   "execution_count": null,
   "outputs": []
  },
  {
   "cell_type": "code",
   "execution_count": 20,
   "metadata": {},
   "outputs": [],
   "source": [
    "t1 = torch.tensor([\n",
    "    [1,1,1,1],\n",
    "    [2,2,2,2],\n",
    "    [3,3,3,3]\n",
    "], dtype=torch.float32)"
   ]
  },
  {
   "cell_type": "code",
   "execution_count": 21,
   "metadata": {},
   "outputs": [
    {
     "output_type": "execute_result",
     "data": {
      "text/plain": "tensor([6., 6., 6., 6.])"
     },
     "metadata": {},
     "execution_count": 21
    }
   ],
   "source": [
    "t1.sum(dim=0)"
   ]
  },
  {
   "cell_type": "code",
   "execution_count": 22,
   "metadata": {},
   "outputs": [
    {
     "output_type": "execute_result",
     "data": {
      "text/plain": "tensor([ 4.,  8., 12.])"
     },
     "metadata": {},
     "execution_count": 22
    }
   ],
   "source": [
    "t1.sum(dim=1)"
   ]
  },
  {
   "cell_type": "markdown",
   "metadata": {},
   "source": [
    "when we take respects to the first axis, we are summing the elements of the axis"
   ],
   "execution_count": null,
   "outputs": []
  },
  {
   "cell_type": "code",
   "execution_count": 23,
   "metadata": {},
   "outputs": [
    {
     "output_type": "execute_result",
     "data": {
      "text/plain": "tensor([6., 6., 6., 6.])"
     },
     "metadata": {},
     "execution_count": 23
    }
   ],
   "source": [
    "t1[0] + t1[1] + t1[2]"
   ]
  },
  {
   "cell_type": "code",
   "execution_count": 24,
   "metadata": {},
   "outputs": [
    {
     "output_type": "execute_result",
     "data": {
      "text/plain": "tensor(4.)"
     },
     "metadata": {},
     "execution_count": 24
    }
   ],
   "source": [
    "t1[0].sum()"
   ]
  },
  {
   "cell_type": "code",
   "execution_count": 25,
   "metadata": {},
   "outputs": [
    {
     "output_type": "execute_result",
     "data": {
      "text/plain": "tensor(8.)"
     },
     "metadata": {},
     "execution_count": 25
    }
   ],
   "source": [
    "t1[1].sum()"
   ]
  },
  {
   "cell_type": "code",
   "execution_count": 26,
   "metadata": {},
   "outputs": [
    {
     "output_type": "execute_result",
     "data": {
      "text/plain": "tensor(12.)"
     },
     "metadata": {},
     "execution_count": 26
    }
   ],
   "source": [
    "t1[2].sum()"
   ]
  },
  {
   "cell_type": "markdown",
   "metadata": {},
   "source": [
    "these individual operations show the element-wise arithmatic used for the different sum dimensions"
   ],
   "execution_count": null,
   "outputs": []
  },
  {
   "cell_type": "code",
   "execution_count": 27,
   "metadata": {},
   "outputs": [],
   "source": [
    "t2 = torch.tensor([\n",
    "    [1, 0, 0, 2],\n",
    "    [0, 3, 3, 0],\n",
    "    [4, 0, 0, 5]\n",
    "], dtype=torch.float32)"
   ]
  },
  {
   "cell_type": "code",
   "execution_count": 28,
   "metadata": {},
   "outputs": [
    {
     "output_type": "execute_result",
     "data": {
      "text/plain": "tensor(5.)"
     },
     "metadata": {},
     "execution_count": 28
    }
   ],
   "source": [
    "t2.max()"
   ]
  },
  {
   "cell_type": "code",
   "execution_count": 29,
   "metadata": {},
   "outputs": [
    {
     "output_type": "execute_result",
     "data": {
      "text/plain": "tensor(11)"
     },
     "metadata": {},
     "execution_count": 29
    }
   ],
   "source": [
    "t2.argmax()"
   ]
  },
  {
   "cell_type": "code",
   "execution_count": 30,
   "metadata": {},
   "outputs": [
    {
     "output_type": "execute_result",
     "data": {
      "text/plain": "tensor([1., 0., 0., 2., 0., 3., 3., 0., 4., 0., 0., 5.])"
     },
     "metadata": {},
     "execution_count": 30
    }
   ],
   "source": [
    "t2.flatten()"
   ]
  },
  {
   "cell_type": "markdown",
   "metadata": {},
   "source": [
    "the argmax function finds the index of the maximum value in the tensor dimension given,\n",
    "this is indentified as 5\n",
    "\n",
    "given no parameters were specified for the argmax function, the index is given in terms of the one dimensional form of the tensor"
   ],
   "execution_count": null,
   "outputs": []
  },
  {
   "cell_type": "code",
   "execution_count": 31,
   "metadata": {},
   "outputs": [
    {
     "output_type": "execute_result",
     "data": {
      "text/plain": "torch.return_types.max(\nvalues=tensor([4., 3., 3., 5.]),\nindices=tensor([2, 1, 1, 2]))"
     },
     "metadata": {},
     "execution_count": 31
    }
   ],
   "source": [
    "t2.max(dim=0)"
   ]
  },
  {
   "cell_type": "code",
   "execution_count": 32,
   "metadata": {},
   "outputs": [
    {
     "output_type": "execute_result",
     "data": {
      "text/plain": "tensor([2, 1, 1, 2])"
     },
     "metadata": {},
     "execution_count": 32
    }
   ],
   "source": [
    "t2.argmax(dim=0)"
   ]
  },
  {
   "cell_type": "code",
   "execution_count": 33,
   "metadata": {},
   "outputs": [
    {
     "output_type": "execute_result",
     "data": {
      "text/plain": "torch.return_types.max(\nvalues=tensor([2., 3., 5.]),\nindices=tensor([3, 2, 3]))"
     },
     "metadata": {},
     "execution_count": 33
    }
   ],
   "source": [
    "t2.max(dim=1)"
   ]
  },
  {
   "cell_type": "code",
   "execution_count": 34,
   "metadata": {},
   "outputs": [
    {
     "output_type": "execute_result",
     "data": {
      "text/plain": "tensor([3, 2, 3])"
     },
     "metadata": {},
     "execution_count": 34
    }
   ],
   "source": [
    "t2.argmax(dim=1)"
   ]
  },
  {
   "cell_type": "markdown",
   "metadata": {},
   "source": [
    "these different dimensions being targeted returns different maximum value indexes"
   ]
  },
  {
   "cell_type": "code",
   "execution_count": 35,
   "metadata": {},
   "outputs": [],
   "source": [
    "t3 = torch.tensor([\n",
    "    [1,2,3],\n",
    "    [4,5,6],\n",
    "    [7,8,9]\n",
    "], dtype=torch.float32)"
   ]
  },
  {
   "cell_type": "code",
   "execution_count": 36,
   "metadata": {},
   "outputs": [
    {
     "output_type": "execute_result",
     "data": {
      "text/plain": "tensor(5.)"
     },
     "metadata": {},
     "execution_count": 36
    }
   ],
   "source": [
    "t3.mean()"
   ]
  },
  {
   "cell_type": "code",
   "execution_count": 37,
   "metadata": {},
   "outputs": [
    {
     "output_type": "execute_result",
     "data": {
      "text/plain": "5.0"
     },
     "metadata": {},
     "execution_count": 37
    }
   ],
   "source": [
    "t3.mean().item()"
   ]
  },
  {
   "cell_type": "code",
   "execution_count": 38,
   "metadata": {},
   "outputs": [
    {
     "output_type": "execute_result",
     "data": {
      "text/plain": "[4.0, 5.0, 6.0]"
     },
     "metadata": {},
     "execution_count": 38
    }
   ],
   "source": [
    "t3.mean(dim=0).tolist()"
   ]
  },
  {
   "cell_type": "code",
   "execution_count": 39,
   "metadata": {},
   "outputs": [
    {
     "output_type": "execute_result",
     "data": {
      "text/plain": "array([4., 5., 6.], dtype=float32)"
     },
     "metadata": {},
     "execution_count": 39
    }
   ],
   "source": [
    "t3.mean(dim=0).numpy()"
   ]
  },
  {
   "cell_type": "markdown",
   "metadata": {},
   "source": [
    "here the item() function allows specific identication of elements in the tensor and only operates on scalar values\n",
    "\n",
    "the tolist() function produces an array from the elements in the given dimension\n",
    "\n"
   ]
  }
 ]
}