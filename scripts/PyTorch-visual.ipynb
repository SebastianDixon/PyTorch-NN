{
 "nbformat": 4,
 "nbformat_minor": 2,
 "metadata": {
  "language_info": {
   "name": "python",
   "codemirror_mode": {
    "name": "ipython",
    "version": 3
   },
   "version": "3.7.6-final"
  },
  "orig_nbformat": 2,
  "file_extension": ".py",
  "mimetype": "text/x-python",
  "name": "python",
  "npconvert_exporter": "python",
  "pygments_lexer": "ipython3",
  "version": 3,
  "kernelspec": {
   "name": "python37664bitd0b078c581744c51ba9098f8d851824d",
   "display_name": "Python 3.7.6 64-bit"
  }
 },
 "cells": [
  {
   "cell_type": "code",
   "execution_count": 2,
   "metadata": {},
   "outputs": [],
   "source": [
    "import torch\n",
    "import torch.nn as nn\n",
    "import torch.nn.functional as F\n",
    "import torchvision\n",
    "import torchvision.transforms as transforms\n",
    "\n",
    "import torch.optim as optim\n",
    "\n",
    "torch.set_printoptions(linewidth=120)\n",
    "\n",
    "from torch.utils.tensorboard import SummaryWriter"
   ]
  },
  {
   "cell_type": "code",
   "execution_count": 3,
   "metadata": {},
   "outputs": [],
   "source": [
    "train_set = torchvision.datasets.FashionMNIST(\n",
    "    root='./data/FashionMNIST'\n",
    "    ,train=True\n",
    "    ,download=True\n",
    "    ,transform=transforms.Compose([\n",
    "        transforms.ToTensor()\n",
    "    ])\n",
    ")\n",
    "\n",
    "train_loader = torch.utils.data.DataLoader(train_set, batch_size=100, shuffle=True)"
   ]
  },
  {
   "cell_type": "code",
   "execution_count": 4,
   "metadata": {},
   "outputs": [],
   "source": [
    "class Network(nn.Module):\n",
    "    def __init__(self):\n",
    "        super(Network, self).__init__()\n",
    "        self.conv1 = nn.Conv2d(in_channels=1, out_channels=6, kernel_size=5)\n",
    "        self.conv2 = nn.Conv2d(in_channels=6, out_channels=12, kernel_size=5)\n",
    "\n",
    "        self.fc1 = nn.Linear(in_features=12*4*4, out_features=120)\n",
    "        self.fc2 = nn.Linear(in_features=120, out_features=60)\n",
    "        self.out = nn.Linear(in_features=60, out_features=10)\n",
    "\n",
    "    def forward(self, t):\n",
    "        t = F.relu(self.conv1(t))\n",
    "        t = F.max_pool2d(t, kernel_size=2, stride=2)\n",
    "\n",
    "        t = F.relu(self.conv2(t))\n",
    "        t = F.max_pool2d(t, kernel_size=2, stride=2)\n",
    "\n",
    "        t = t.reshape(-1, 12*4*4)\n",
    "        t = F.relu(self.fc1(t))\n",
    "        t = F.relu(self.fc2(t))\n",
    "        t = self.out(t)\n",
    "\n",
    "        return t"
   ]
  },
  {
   "cell_type": "code",
   "execution_count": 5,
   "metadata": {},
   "outputs": [],
   "source": [
    "def num_correct(preds, labels):\n",
    "    return preds.argmax(dim=1).eq(labels).sum().item()"
   ]
  },
  {
   "cell_type": "code",
   "execution_count": 26,
   "metadata": {},
   "outputs": [],
   "source": [
    "tb = SummaryWriter()\n",
    "\n",
    "network = Network()\n",
    "images, labels = next(iter(train_loader))\n",
    "grid = torchvision.utils.make_grid(images)\n",
    "\n",
    "tb.add_image('image', grid)\n",
    "tb.add_graph(network, images)\n",
    "tb.close()"
   ]
  },
  {
   "cell_type": "code",
   "execution_count": 7,
   "metadata": {},
   "outputs": [
    {
     "output_type": "stream",
     "name": "stdout",
     "text": "epoch: 0 loss: 35035.043278336525 total correct: 46665\nepoch: 1 loss: 23251.325283944607 total correct: 51438\nepoch: 2 loss: 21220.030699670315 total correct: 52203\nepoch: 3 loss: 20360.329358279705 total correct: 52504\nepoch: 4 loss: 19947.98551797867 total correct: 52677\nepoch: 5 loss: 19555.4128870368 total correct: 52769\nepoch: 6 loss: 19248.093296587467 total correct: 52948\nepoch: 7 loss: 19115.586526691914 total correct: 52965\nepoch: 8 loss: 18784.627535939217 total correct: 53146\nepoch: 9 loss: 18405.429013073444 total correct: 53210\nepoch: 10 loss: 18607.829013466835 total correct: 53185\nepoch: 11 loss: 18527.47161835432 total correct: 53212\nepoch: 12 loss: 18637.72555887699 total correct: 53258\nepoch: 13 loss: 18020.28592079878 total correct: 53418\nepoch: 14 loss: 17813.970881700516 total correct: 53488\nepoch: 15 loss: 17755.11513054371 total correct: 53676\nepoch: 16 loss: 17811.289358139038 total correct: 53468\nepoch: 17 loss: 17207.110227644444 total correct: 53689\nepoch: 18 loss: 17129.548782110214 total correct: 53758\nepoch: 19 loss: 17651.7355106771 total correct: 53692\n"
    }
   ],
   "source": [
    "batch_size_list = [100]\n",
    "lr_list = [0.01]\n",
    "num_workers_list = [1]\n",
    "\n",
    "for batch_size in batch_size_list:\n",
    "    for lr in lr_list:\n",
    "        for num_workers in num_workers_list:\n",
    "            \n",
    "            network = Network()\n",
    "            loader = torch.utils.data.DataLoader(train_set, batch_size=batch_size, num_workers=num_workers)\n",
    "            optimiser = optim.Adam(network.parameters(), lr=lr)\n",
    "\n",
    "            images, labels = next(iter(loader))\n",
    "            grid = torchvision.utils.make_grid(images)\n",
    "\n",
    "            tb = SummaryWriter()\n",
    "\n",
    "            comment = f' batchsize ={batch_size} lr ={lr} num workers ={num_workers}'\n",
    "            tb = SummaryWriter(comment=comment)\n",
    "            tb.add_image('images', grid)\n",
    "            tb.add_graph(network, images)\n",
    "\n",
    "            for epoch in range(20):\n",
    "\n",
    "                total_loss = 0\n",
    "                total_correct = 0\n",
    "\n",
    "                for batch in train_loader: \n",
    "                    images, labels = batch\n",
    "\n",
    "                    preds = network(images)\n",
    "                    loss = F.cross_entropy(preds, labels)\n",
    "\n",
    "                    optimiser.zero_grad()\n",
    "                    loss.backward()\n",
    "                    optimiser.step()\n",
    "\n",
    "                    total_loss += loss.item() * batch_size\n",
    "                    total_correct += num_correct(preds, labels)\n",
    "\n",
    "                tb.add_scalar('loss', total_loss, epoch)\n",
    "                tb.add_scalar('number correct', total_correct, epoch)\n",
    "                tb.add_scalar('accuracy', total_correct/len(train_set), epoch)\n",
    "\n",
    "                for name, weight in network.named_parameters():\n",
    "                    tb.add_histogram(name, weight, epoch)\n",
    "                    tb.add_histogram(f'{name}.grad' , weight.grad, epoch)\n",
    "\n",
    "                print('epoch:', epoch , 'loss:', total_loss, 'total correct:', total_correct)\n",
    "\n",
    "            tb.close()\n",
    ""
   ]
  }
 ]
}