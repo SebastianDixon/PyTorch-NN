{
 "nbformat": 4,
 "nbformat_minor": 2,
 "metadata": {
  "language_info": {
   "name": "python",
   "codemirror_mode": {
    "name": "ipython",
    "version": 3
   },
   "version": "3.7.6-final"
  },
  "orig_nbformat": 2,
  "file_extension": ".py",
  "mimetype": "text/x-python",
  "name": "python",
  "npconvert_exporter": "python",
  "pygments_lexer": "ipython3",
  "version": 3,
  "kernelspec": {
   "name": "python37664bityourenvnamecondacce0d0eabbbc48578f2ab08bf65df73c",
   "display_name": "Python 3.7.6 64-bit ('your-env-name': conda)"
  }
 },
 "cells": [
  {
   "cell_type": "code",
   "execution_count": 1,
   "metadata": {},
   "outputs": [],
   "source": [
    "import torch\n",
    "import numpy as np "
   ]
  },
  {
   "cell_type": "code",
   "execution_count": 2,
   "metadata": {},
   "outputs": [],
   "source": [
    "a1 = torch.tensor([1,1,1])"
   ]
  },
  {
   "cell_type": "code",
   "execution_count": 3,
   "metadata": {},
   "outputs": [
    {
     "output_type": "execute_result",
     "data": {
      "text/plain": "tensor([[1, 1, 1]])"
     },
     "metadata": {},
     "execution_count": 3
    }
   ],
   "source": [
    "a1.unsqueeze(dim=0)"
   ]
  },
  {
   "cell_type": "code",
   "execution_count": 4,
   "metadata": {},
   "outputs": [
    {
     "output_type": "execute_result",
     "data": {
      "text/plain": "tensor([[1],\n        [1],\n        [1]])"
     },
     "metadata": {},
     "execution_count": 4
    }
   ],
   "source": [
    "a1.unsqueeze(dim=1)"
   ]
  },
  {
   "cell_type": "code",
   "execution_count": 5,
   "metadata": {},
   "outputs": [],
   "source": [
    "t1 = torch.tensor([1,1,1])\n",
    "t2 = torch.tensor([2,2,2])\n",
    "t3 = torch.tensor([3,3,3])"
   ]
  },
  {
   "cell_type": "code",
   "execution_count": 6,
   "metadata": {},
   "outputs": [
    {
     "output_type": "execute_result",
     "data": {
      "text/plain": "tensor([1, 1, 1, 2, 2, 2, 3, 3, 3])"
     },
     "metadata": {},
     "execution_count": 6
    }
   ],
   "source": [
    "torch.cat((t1, t2, t3), dim=0)"
   ]
  },
  {
   "cell_type": "code",
   "execution_count": 7,
   "metadata": {},
   "outputs": [
    {
     "output_type": "execute_result",
     "data": {
      "text/plain": "tensor([[1, 1, 1],\n        [2, 2, 2],\n        [3, 3, 3]])"
     },
     "metadata": {},
     "execution_count": 7
    }
   ],
   "source": [
    "torch.stack((t1, t2, t3), dim=0)"
   ]
  },
  {
   "cell_type": "markdown",
   "metadata": {},
   "source": [
    "concatenating tensors is joining along the existing axis\n",
    "\n",
    "stacking tensors is joining on a new axis"
   ]
  },
  {
   "cell_type": "code",
   "execution_count": 8,
   "metadata": {},
   "outputs": [
    {
     "output_type": "execute_result",
     "data": {
      "text/plain": "tensor([[1, 1, 1],\n        [2, 2, 2],\n        [3, 3, 3]])"
     },
     "metadata": {},
     "execution_count": 8
    }
   ],
   "source": [
    "torch.cat((t1.unsqueeze(0), t2.unsqueeze(0), t3.unsqueeze(0)), dim=0)"
   ]
  },
  {
   "cell_type": "code",
   "execution_count": 9,
   "metadata": {},
   "outputs": [
    {
     "output_type": "execute_result",
     "data": {
      "text/plain": "tensor([[1, 1, 1]])"
     },
     "metadata": {},
     "execution_count": 9
    }
   ],
   "source": [
    "t1.unsqueeze(0)"
   ]
  },
  {
   "cell_type": "code",
   "execution_count": 10,
   "metadata": {},
   "outputs": [
    {
     "output_type": "execute_result",
     "data": {
      "text/plain": "tensor([[1],\n        [1],\n        [1]])"
     },
     "metadata": {},
     "execution_count": 10
    }
   ],
   "source": [
    "t1.unsqueeze(1)"
   ]
  },
  {
   "cell_type": "code",
   "execution_count": 11,
   "metadata": {},
   "outputs": [
    {
     "output_type": "execute_result",
     "data": {
      "text/plain": "tensor([[1],\n        [1],\n        [1],\n        [2],\n        [2],\n        [2],\n        [3],\n        [3],\n        [3]])"
     },
     "metadata": {},
     "execution_count": 11
    }
   ],
   "source": [
    "torch.cat((t1.unsqueeze(1), t2.unsqueeze(1), t3.unsqueeze(1)), dim=0)"
   ]
  },
  {
   "cell_type": "code",
   "execution_count": 12,
   "metadata": {},
   "outputs": [
    {
     "output_type": "execute_result",
     "data": {
      "text/plain": "tensor([[1, 2, 3],\n        [1, 2, 3],\n        [1, 2, 3]])"
     },
     "metadata": {},
     "execution_count": 12
    }
   ],
   "source": [
    "torch.cat((t1.unsqueeze(1), t2.unsqueeze(1), t3.unsqueeze(1)), dim=1)"
   ]
  },
  {
   "cell_type": "markdown",
   "metadata": {},
   "source": [
    "1. taking three images as tensors, the images have individual width, height and colour channel values, in order to form one tensor for all three images, they must be stacked in order to preserve the values of the individual axes. the new axis formed is known as the batch axis.\n",
    "\n",
    "2. then take three images, each of an individual batch of 1. here the images must be concatenated to form one tensor input as only the batch axis will be increased, leaving the individual image specific height, width and colour channels to the same values\n",
    "\n",
    "3. a batch of three images has already been made, another three individual images have to be added to batch, these new images dont have a batch axis. therefore, the new images must first be stacked to give the batch axis, and then concatenated to the existing three image tensor, forming a tensor with a batch number of 6, and the respective colour channels and image size. this was performed in this order due to the shape of the tensors having to be the same for the concat operation to be performed\n",
    "\n"
   ]
  },
  {
   "cell_type": "code",
   "execution_count": 13,
   "metadata": {},
   "outputs": [],
   "source": [
    "t4 = torch.tensor([1,1,1], dtype=torch.float32)\n",
    "t5 = torch.tensor([2,2,2], dtype=torch.float32)\n",
    "t6 = torch.tensor([3,3,3], dtype=torch.float32)\n",
    "\n",
    "batched = torch.tensor([\n",
    "    [1,2,3],\n",
    "    [4,5,6],\n",
    "    [7,8,9]\n",
    "], dtype=torch.float32)"
   ]
  },
  {
   "cell_type": "code",
   "execution_count": 14,
   "metadata": {},
   "outputs": [],
   "source": [
    "new = torch.stack((t4, t5, t6), dim=0)"
   ]
  },
  {
   "cell_type": "code",
   "execution_count": 15,
   "metadata": {},
   "outputs": [
    {
     "output_type": "execute_result",
     "data": {
      "text/plain": "tensor([[1., 1., 1.],\n        [2., 2., 2.],\n        [3., 3., 3.]])"
     },
     "metadata": {},
     "execution_count": 15
    }
   ],
   "source": [
    "new"
   ]
  },
  {
   "cell_type": "code",
   "execution_count": 16,
   "metadata": {},
   "outputs": [
    {
     "output_type": "execute_result",
     "data": {
      "text/plain": "tensor([[1., 2., 3.],\n        [4., 5., 6.],\n        [7., 8., 9.]])"
     },
     "metadata": {},
     "execution_count": 16
    }
   ],
   "source": [
    "batched"
   ]
  },
  {
   "cell_type": "code",
   "execution_count": 17,
   "metadata": {},
   "outputs": [
    {
     "output_type": "execute_result",
     "data": {
      "text/plain": "tensor([[1., 1., 1.],\n        [2., 2., 2.],\n        [3., 3., 3.],\n        [1., 2., 3.],\n        [4., 5., 6.],\n        [7., 8., 9.]])"
     },
     "metadata": {},
     "execution_count": 17
    }
   ],
   "source": [
    "torch.cat((new, batched), dim=0)"
   ]
  }
 ]
}